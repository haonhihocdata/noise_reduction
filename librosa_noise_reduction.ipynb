{
 "cells": [
  {
   "cell_type": "code",
   "execution_count": 1,
   "metadata": {},
   "outputs": [],
   "source": [
    "from __future__ import print_function\n",
    "import numpy as np\n",
    "import time\n",
    "import matplotlib.pyplot as plt\n",
    "import librosa\n",
    "import soundfile as sf\n",
    "from pydub import AudioSegment"
   ]
  },
  {
   "cell_type": "code",
   "execution_count": 2,
   "metadata": {},
   "outputs": [],
   "source": [
    "start_time = time.time()\n",
    "\n",
    "# Tải file âm thanh\n",
    "y, sr = librosa.load('./input/noise_reduction_input.wav', duration=200)\n",
    "\n",
    "# Tính toán Spectrogram\n",
    "S_full, phase = librosa.magphase(librosa.stft(y))\n",
    "\n",
    "# Giảm tiếng ồn\n",
    "S_filter = librosa.decompose.nn_filter(S_full,\n",
    "                                       aggregate=np.median,\n",
    "                                       metric='cosine',\n",
    "                                       width=int(librosa.time_to_frames(2, sr=sr)))\n",
    "\n",
    "S_filter = np.minimum(S_full, S_filter)\n",
    "\n",
    "# Áp dụng Mask\n",
    "width = int(librosa.time_to_frames(5, sr=sr)) \n",
    "margin_i, margin_v = 1, 10\n",
    "power = 1\n",
    "\n",
    "mask_i = librosa.util.softmask(S_filter,\n",
    "                               margin_i * (S_full - S_filter),\n",
    "                               power=power)\n",
    "\n",
    "mask_v = librosa.util.softmask(S_full - S_filter,\n",
    "                               margin_v * S_filter,\n",
    "                               power=power)\n",
    "\n",
    "# Tách foreground và background\n",
    "S_foreground = mask_v * S_full\n",
    "S_background = mask_i * S_full\n",
    "\n",
    "# Nghịch đảo STFT và Tái tạo\n",
    "y_foreground = librosa.istft(S_foreground * phase)\n",
    "\n",
    "end_time = time.time()\n",
    "processing_time = end_time - start_time"
   ]
  },
  {
   "cell_type": "code",
   "execution_count": 3,
   "metadata": {},
   "outputs": [],
   "source": [
    "def calculate_cleanliness_ratio(original_audio, denoised_audio):\n",
    "    # Chuyển đổi AudioSegment thành mảng numpy\n",
    "    original_array = np.array(original_audio.get_array_of_samples())\n",
    "    denoised_array = np.array(denoised_audio.get_array_of_samples())\n",
    "\n",
    "    # Đảm bảo rằng kích thước của hai mảng là giống nhau hoặc có thể broadcast cho nhau\n",
    "    min_len = min(len(original_array), len(denoised_array))\n",
    "    original_array = original_array[:min_len]\n",
    "    denoised_array = denoised_array[:min_len]\n",
    "\n",
    "    # Tính toán công suất tín hiệu và công suất nhiễu\n",
    "    signal_power = np.sum(original_array ** 2)\n",
    "    noise_power = np.sum((original_array - denoised_array) ** 2)\n",
    "\n",
    "    # Tính toán SNR\n",
    "    snr = 10 * np.log10(signal_power / noise_power)\n",
    "\n",
    "    # Tính toán tỷ lệ sạch dưới dạng phần trăm\n",
    "    cleanliness_ratio = (1 - 10**(-snr / 10)) * 100\n",
    "\n",
    "    return cleanliness_ratio\n",
    "\n",
    "# Đọc file âm thanh gốc và sau khi giảm ồn\n",
    "original_audio = AudioSegment.from_file(\"./input/noise_reduction_input.wav\")\n",
    "denoised_audio = AudioSegment.from_file(\"output/librosa_output.wav\")\n",
    "\n",
    "# Tính toán tỷ lệ sạch\n",
    "cleanliness_ratio = calculate_cleanliness_ratio(original_audio, denoised_audio)"
   ]
  },
  {
   "cell_type": "code",
   "execution_count": 4,
   "metadata": {},
   "outputs": [],
   "source": [
    "sf.write('./output/librosa_output.wav', y_foreground, samplerate=sr)"
   ]
  },
  {
   "cell_type": "code",
   "execution_count": 5,
   "metadata": {},
   "outputs": [
    {
     "name": "stdout",
     "output_type": "stream",
     "text": [
      "Thời gian xử lý: 4.99 giây\n",
      "Tỷ lệ sạch: 31.87%\n"
     ]
    }
   ],
   "source": [
    "\n",
    "print(f\"Thời gian xử lý: {processing_time:.2f} giây\")\n",
    "print(f\"Tỷ lệ sạch: {cleanliness_ratio:.2f}%\")"
   ]
  }
 ],
 "metadata": {
  "kernelspec": {
   "display_name": "py39",
   "language": "python",
   "name": "python3"
  },
  "language_info": {
   "codemirror_mode": {
    "name": "ipython",
    "version": 3
   },
   "file_extension": ".py",
   "mimetype": "text/x-python",
   "name": "python",
   "nbconvert_exporter": "python",
   "pygments_lexer": "ipython3",
   "version": "3.9.18"
  }
 },
 "nbformat": 4,
 "nbformat_minor": 2
}
