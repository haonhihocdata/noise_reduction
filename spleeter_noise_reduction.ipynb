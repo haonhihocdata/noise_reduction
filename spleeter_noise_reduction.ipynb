{
 "cells": [
  {
   "cell_type": "code",
   "execution_count": 1,
   "metadata": {},
   "outputs": [],
   "source": [
    "from IPython.display import Audio\n",
    "import shutil\n",
    "import os\n",
    "import time\n",
    "import librosa\n",
    "from pydub import AudioSegment\n",
    "import numpy as np"
   ]
  },
  {
   "cell_type": "code",
   "execution_count": 2,
   "metadata": {},
   "outputs": [
    {
     "name": "stdout",
     "output_type": "stream",
     "text": [
      "INFO:spleeter:File output\\noise_reduction_input/accompaniment.wav written succesfully\n",
      "INFO:spleeter:File output\\noise_reduction_input/vocals.wav written succesfully\n"
     ]
    }
   ],
   "source": [
    "start_time = time.time()\n",
    "\n",
    "# Tách các tệp âm thanh bằng mô hình được đào tạo trước\n",
    "!spleeter separate -o output ./input/noise_reduction_input.wav\n",
    "\n",
    "end_time = time.time()\n",
    "processing_time = end_time - start_time"
   ]
  },
  {
   "cell_type": "code",
   "execution_count": 3,
   "metadata": {},
   "outputs": [],
   "source": [
    "# Đổi tền, điều chỉnh đường dẫn file output\n",
    "if os.path.exists(\"output/noise_reduction_input/accompaniment.wav\"):\n",
    "    os.remove(\"output/noise_reduction_input/accompaniment.wav\")\n",
    "\n",
    "if os.path.exists(\"output/noise_reduction_input/vocals.wav\"):\n",
    "    old_path = \"output/noise_reduction_input/vocals.wav\"\n",
    "    new_path = \"output/spleeter_output.wav\"\n",
    "    shutil.move(old_path, new_path)\n",
    "\n",
    "if os.path.exists(\"output/noise_reduction_input\"):\n",
    "    shutil.rmtree(\"output/noise_reduction_input\")"
   ]
  },
  {
   "cell_type": "code",
   "execution_count": 4,
   "metadata": {},
   "outputs": [],
   "source": [
    "def calculate_cleanliness_ratio(original_audio, denoised_audio):\n",
    "    # Chuyển đổi AudioSegment thành mảng numpy\n",
    "    original_array = np.array(original_audio.get_array_of_samples())\n",
    "    denoised_array = np.array(denoised_audio.get_array_of_samples())\n",
    "\n",
    "    # Đảm bảo rằng kích thước của hai mảng là giống nhau hoặc có thể broadcast cho nhau\n",
    "    min_len = min(len(original_array), len(denoised_array))\n",
    "    original_array = original_array[:min_len]\n",
    "    denoised_array = denoised_array[:min_len]\n",
    "\n",
    "    # Tính toán công suất tín hiệu và công suất nhiễu\n",
    "    signal_power = np.sum(original_array ** 2)\n",
    "    noise_power = np.sum((original_array - denoised_array) ** 2)\n",
    "\n",
    "    # Tính toán SNR\n",
    "    snr = 10 * np.log10(signal_power / noise_power)\n",
    "\n",
    "    # Tính toán tỷ lệ sạch dưới dạng phần trăm\n",
    "    cleanliness_ratio = (1 - 10**(-snr / 10)) * 100\n",
    "\n",
    "    return cleanliness_ratio\n",
    "\n",
    "# Đọc file âm thanh gốc và sau khi giảm ồn\n",
    "original_audio = AudioSegment.from_file(\"./input/noise_reduction_input.wav\")\n",
    "denoised_audio = AudioSegment.from_file(\"output/spleeter_output.wav\")\n",
    "\n",
    "# Tính toán tỷ lệ sạch\n",
    "cleanliness_ratio = calculate_cleanliness_ratio(original_audio, denoised_audio)\n"
   ]
  },
  {
   "cell_type": "code",
   "execution_count": 5,
   "metadata": {},
   "outputs": [
    {
     "name": "stdout",
     "output_type": "stream",
     "text": [
      "Thời gian xử lý: 15.28 giây\n",
      "Tỷ lệ sạch: 18.51%\n"
     ]
    }
   ],
   "source": [
    "print(f\"Thời gian xử lý: {processing_time:.2f} giây\")\n",
    "print(f\"Tỷ lệ sạch: {cleanliness_ratio:.2f}%\")"
   ]
  }
 ],
 "metadata": {
  "kernelspec": {
   "display_name": "Python 3 (ipykernel)",
   "language": "python",
   "name": "python3"
  },
  "language_info": {
   "codemirror_mode": {
    "name": "ipython",
    "version": 3
   },
   "file_extension": ".py",
   "mimetype": "text/x-python",
   "name": "python",
   "nbconvert_exporter": "python",
   "pygments_lexer": "ipython3",
   "version": "3.9.18"
  }
 },
 "nbformat": 4,
 "nbformat_minor": 2
}
